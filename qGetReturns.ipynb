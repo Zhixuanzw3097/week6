{
  "cells": [
    {
      "cell_type": "markdown",
      "metadata": {
        "colab_type": "text",
        "id": "view-in-github"
      },
      "source": [
        "<a href=\"https://colab.research.google.com/github/tleitchColumbia/week6/blob/main/qGetReturns.ipynb\" target=\"_parent\"><img src=\"https://colab.research.google.com/assets/colab-badge.svg\" alt=\"Open In Colab\"/></a>"
      ]
    },
    {
      "cell_type": "code",
      "execution_count": 20,
      "metadata": {
        "id": "Jx7tQYA0d1Ly"
      },
      "outputs": [
        {
          "name": "stderr",
          "output_type": "stream",
          "text": [
            "Failed to get ticker 'GS' reason: Expecting value: line 1 column 1 (char 0)\n"
          ]
        },
        {
          "name": "stdout",
          "output_type": "stream",
          "text": [
            "[*********************100%%**********************]  1 of 1 completed"
          ]
        },
        {
          "name": "stderr",
          "output_type": "stream",
          "text": [
            "\n",
            "1 Failed download:\n",
            "['GS']: Exception('%ticker%: No timezone found, symbol may be delisted')\n"
          ]
        },
        {
          "name": "stdout",
          "output_type": "stream",
          "text": [
            "\n",
            "Series([], Name: Adj Close, dtype: float64)\n",
            "[]\n"
          ]
        }
      ],
      "source": [
        "import yfinance as yf\n",
        "import pandas as pd\n",
        "\n",
        "def YahooData2returns(YahooData):\n",
        "    \"\"\"\n",
        "    Convert Yahoo Finance data to returns.\n",
        "    \n",
        "    Steps:\n",
        "    1. Extract 'Adj Close' column\n",
        "    2. Convert values from 'Adj Close' column to a simple array\n",
        "    3. Calculate and return the lagged returns\n",
        "    \"\"\"\n",
        "    prices = YahooData['Adj Close']\n",
        "    pricevec = prices.values\n",
        "    returns = get_returns(pricevec)\n",
        "    return returns\n",
        "\n",
        "def get_stock_data(symbol):\n",
        "    \"\"\"\n",
        "    Fetch stock data from Yahoo Finance.\n",
        "    \n",
        "    :param symbol: Stock ticker symbol (e.g., 'GS' for Goldman Sachs)\n",
        "    :return: Series of adjusted close prices\n",
        "    \"\"\"\n",
        "    data = yf.download(symbol)\n",
        "    prices = data['Adj Close']\n",
        "    return prices\n",
        "\n",
        "def get_returns(pricevec):\n",
        "    \"\"\"\n",
        "    Compute the lagged returns from a given price vector.\n",
        "    \n",
        "    :param pricevec: Array of adjusted closing prices\n",
        "    :return: Array of returns\n",
        "    \"\"\"\n",
        "    n = len(pricevec)\n",
        "    ratiovec = pricevec[1:n] / pricevec[0:n-1]  # price_t / price_t-1\n",
        "    returns = ratiovec - 1  # (price_t / price_t-1) - 1\n",
        "    return returns\n",
        "\n",
        "# Example usage\n",
        "prices = get_stock_data('GS')  # Fetch stock data for Goldman Sachs\n",
        "print(prices)\n",
        "pricevec = prices.values  # Convert series to array\n",
        "\n",
        "returns = get_returns(pricevec)  # Compute returns\n",
        "print(returns)\n"
      ]
    },
    {
      "cell_type": "code",
      "execution_count": 22,
      "metadata": {},
      "outputs": [
        {
          "ename": "TypeError",
          "evalue": "history() got an unexpected keyword argument 'session'",
          "output_type": "error",
          "traceback": [
            "\u001b[0;31m---------------------------------------------------------------------------\u001b[0m",
            "\u001b[0;31mTypeError\u001b[0m                                 Traceback (most recent call last)",
            "Cell \u001b[0;32mIn[22], line 8\u001b[0m\n\u001b[1;32m      5\u001b[0m session\u001b[38;5;241m.\u001b[39mheaders\u001b[38;5;241m.\u001b[39mupdate({\u001b[38;5;124m'\u001b[39m\u001b[38;5;124mUser-Agent\u001b[39m\u001b[38;5;124m'\u001b[39m: \u001b[38;5;124m'\u001b[39m\u001b[38;5;124mMozilla/5.0\u001b[39m\u001b[38;5;124m'\u001b[39m})\n\u001b[1;32m      7\u001b[0m gs \u001b[38;5;241m=\u001b[39m yf\u001b[38;5;241m.\u001b[39mTicker(\u001b[38;5;124m\"\u001b[39m\u001b[38;5;124mGS\u001b[39m\u001b[38;5;124m\"\u001b[39m)\n\u001b[0;32m----> 8\u001b[0m data \u001b[38;5;241m=\u001b[39m \u001b[43mgs\u001b[49m\u001b[38;5;241;43m.\u001b[39;49m\u001b[43mhistory\u001b[49m\u001b[43m(\u001b[49m\u001b[43mperiod\u001b[49m\u001b[38;5;241;43m=\u001b[39;49m\u001b[38;5;124;43m\"\u001b[39;49m\u001b[38;5;124;43m1mo\u001b[39;49m\u001b[38;5;124;43m\"\u001b[39;49m\u001b[43m,\u001b[49m\u001b[43m \u001b[49m\u001b[43msession\u001b[49m\u001b[38;5;241;43m=\u001b[39;49m\u001b[43msession\u001b[49m\u001b[43m)\u001b[49m\n\u001b[1;32m     10\u001b[0m \u001b[38;5;28mprint\u001b[39m(data)\n",
            "File \u001b[0;32m~/opt/anaconda3/envs/myenv/lib/python3.9/site-packages/yfinance/utils.py:114\u001b[0m, in \u001b[0;36mlog_indent_decorator.<locals>.wrapper\u001b[0;34m(*args, **kwargs)\u001b[0m\n\u001b[1;32m    111\u001b[0m logger\u001b[38;5;241m.\u001b[39mdebug(\u001b[38;5;124mf\u001b[39m\u001b[38;5;124m'\u001b[39m\u001b[38;5;124mEntering \u001b[39m\u001b[38;5;132;01m{\u001b[39;00mfunc\u001b[38;5;241m.\u001b[39m\u001b[38;5;18m__name__\u001b[39m\u001b[38;5;132;01m}\u001b[39;00m\u001b[38;5;124m()\u001b[39m\u001b[38;5;124m'\u001b[39m)\n\u001b[1;32m    113\u001b[0m \u001b[38;5;28;01mwith\u001b[39;00m IndentationContext():\n\u001b[0;32m--> 114\u001b[0m     result \u001b[38;5;241m=\u001b[39m \u001b[43mfunc\u001b[49m\u001b[43m(\u001b[49m\u001b[38;5;241;43m*\u001b[39;49m\u001b[43margs\u001b[49m\u001b[43m,\u001b[49m\u001b[43m \u001b[49m\u001b[38;5;241;43m*\u001b[39;49m\u001b[38;5;241;43m*\u001b[39;49m\u001b[43mkwargs\u001b[49m\u001b[43m)\u001b[49m\n\u001b[1;32m    116\u001b[0m logger\u001b[38;5;241m.\u001b[39mdebug(\u001b[38;5;124mf\u001b[39m\u001b[38;5;124m'\u001b[39m\u001b[38;5;124mExiting \u001b[39m\u001b[38;5;132;01m{\u001b[39;00mfunc\u001b[38;5;241m.\u001b[39m\u001b[38;5;18m__name__\u001b[39m\u001b[38;5;132;01m}\u001b[39;00m\u001b[38;5;124m()\u001b[39m\u001b[38;5;124m'\u001b[39m)\n\u001b[1;32m    117\u001b[0m \u001b[38;5;28;01mreturn\u001b[39;00m result\n",
            "\u001b[0;31mTypeError\u001b[0m: history() got an unexpected keyword argument 'session'"
          ]
        }
      ],
      "source": [
        "import yfinance as yf\n",
        "import requests\n",
        "\n",
        "session = requests.Session()\n",
        "session.headers.update({'User-Agent': 'Mozilla/5.0'})\n",
        "\n",
        "gs = yf.Ticker(\"GS\")\n",
        "data = gs.history(period=\"1mo\", session=session)\n",
        "\n",
        "print(data)\n",
        "\n"
      ]
    }
  ],
  "metadata": {
    "colab": {
      "authorship_tag": "ABX9TyNoUyBnjfGYgI/uTxKxSEpp",
      "include_colab_link": true,
      "provenance": []
    },
    "kernelspec": {
      "display_name": "myenv",
      "language": "python",
      "name": "python3"
    },
    "language_info": {
      "codemirror_mode": {
        "name": "ipython",
        "version": 3
      },
      "file_extension": ".py",
      "mimetype": "text/x-python",
      "name": "python",
      "nbconvert_exporter": "python",
      "pygments_lexer": "ipython3",
      "version": "3.9.21"
    }
  },
  "nbformat": 4,
  "nbformat_minor": 0
}
